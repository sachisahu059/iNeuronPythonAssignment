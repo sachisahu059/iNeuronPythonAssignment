{
  "nbformat": 4,
  "nbformat_minor": 0,
  "metadata": {
    "colab": {
      "name": "PythonAssignment1.ipynb",
      "provenance": [],
      "collapsed_sections": [],
      "authorship_tag": "ABX9TyOp2G8O+v1QLG/Pu56cMvqa",
      "include_colab_link": true
    },
    "kernelspec": {
      "name": "python3",
      "display_name": "Python 3"
    },
    "language_info": {
      "name": "python"
    }
  },
  "cells": [
    {
      "cell_type": "markdown",
      "metadata": {
        "id": "view-in-github",
        "colab_type": "text"
      },
      "source": [
        "<a href=\"https://colab.research.google.com/github/sachisahu059/iNeuronPythonAssignment/blob/master/PythonAssignment1.ipynb\" target=\"_parent\"><img src=\"https://colab.research.google.com/assets/colab-badge.svg\" alt=\"Open In Colab\"/></a>"
      ]
    },
    {
      "cell_type": "markdown",
      "metadata": {
        "id": "XdLqNicHuFSV"
      },
      "source": [
        "# ***`Python Assignment 1`***"
      ]
    },
    {
      "cell_type": "markdown",
      "metadata": {
        "id": "wrO4ARrLILIK"
      },
      "source": [
        "# **Q1. In the below elements which of them are values or an expression? eg:- values can be integer or string and expressions will be mathematical operators.**\n",
        "1. * \n",
        "2. 'hello'\n",
        "3. -87.8\n",
        "4. - \n",
        "5. / \n",
        "6. +\n",
        "7. 6 \n"
      ]
    },
    {
      "cell_type": "markdown",
      "metadata": {
        "id": "HEBUQU9qIYzr"
      },
      "source": [
        "A1. <br>\n",
        "**Values:** 'hello', 87.8, 6 <br>\n",
        "**Expressions:** *,- , /, + "
      ]
    },
    {
      "cell_type": "markdown",
      "metadata": {
        "id": "yHwY5umbRsqS"
      },
      "source": [
        "# **Q2. What is the difference between string and variable?**"
      ]
    },
    {
      "cell_type": "markdown",
      "metadata": {
        "id": "I2WLpFtfRsxw"
      },
      "source": [
        "A2. <br>\n",
        "**String** is just a data type in which the value is series of characters enclosed using single quotes('iNueron3') or double quotes(\"\"iNueron2\"\") or tripple quotes(\"\"\"iNueron3\"\"\"). \n",
        "\n",
        "A **variable** is name given to a memory location where some value can be stored <br> In a variable we can store different type of value like int(23), float(2.3), string(\"xyz\"), boolean(True, False).\n",
        "\n"
      ]
    },
    {
      "cell_type": "markdown",
      "metadata": {
        "id": "o_LbmjwuRs2Q"
      },
      "source": [
        "# **Q3. Describe three different data types.**"
      ]
    },
    {
      "cell_type": "markdown",
      "metadata": {
        "id": "q0PbAT0MRs57"
      },
      "source": [
        "A3. <br>\n",
        "Different datatypes is needed as we have different type of value is needed. <br>\n",
        "**1. Boolean **: It's value can be True or False only. <br>\n",
        "**2. Numeric :** Data with numbers, \n",
        "it can be integer (whole +ve or -ve numbers), <br>\n",
        "float (numbers with decimal point),  <br>\n",
        "complex type (x+iy, so here x is real number and y is imaginary number) <br>\n",
        "**3. Dictionary :** In this data is stroed as key and value pair. \"x\" : \"name1\", \"y\": \"name2\"\n",
        "So here \"x\" and \"y\" is key and \"name1\" and \"name2\" is value for that key."
      ]
    },
    {
      "cell_type": "markdown",
      "metadata": {
        "id": "O0WUvBC3Rs9k"
      },
      "source": [
        "# **Q4. What is an expression made up of? What do all expressions do?**"
      ]
    },
    {
      "cell_type": "markdown",
      "metadata": {
        "id": "4BBvVOkmRtAu"
      },
      "source": [
        "A4. <br>Expression consits of operators, values, variables also it can be a call to function as that returns a value too. <br> \n",
        "All expressions evaluates to a value."
      ]
    },
    {
      "cell_type": "markdown",
      "metadata": {
        "id": "bc3MExUBRtD3"
      },
      "source": [
        "# **Q5. This assignment statements, like spam = 10. What is the difference between an expression and a statement?**"
      ]
    },
    {
      "cell_type": "markdown",
      "metadata": {
        "id": "5kmx56PqRtHO"
      },
      "source": [
        "A5.\n",
        " <br> In spam = 10, is a statment where assignment operation is executed. \n",
        "So in a statment python executes certain operations/tasks for every statement. If, for loop are expamples of statements, for which specific tasks is done.\n",
        "Experession consist of multiple operator, variables, values.\n",
        "Pythonevaluates this based on the rules and gives us a value as result."
      ]
    },
    {
      "cell_type": "markdown",
      "metadata": {
        "id": "fM2e4BPARtKm"
      },
      "source": [
        "# **Q6. After running the following code, what does the variable bacon contain?**\n",
        "bacon = 22 <br>\n",
        "bacon + 1\n"
      ]
    },
    {
      "cell_type": "markdown",
      "metadata": {
        "id": "DV8R6r9NRtOB"
      },
      "source": [
        "A6. <br> \n",
        "bacon value will be same 22, as the statement bacon+1 is not assigned to bacon so the value remains same."
      ]
    },
    {
      "cell_type": "code",
      "metadata": {
        "colab": {
          "base_uri": "https://localhost:8080/"
        },
        "id": "CrAm5WsaepOY",
        "outputId": "379cb991-e121-4750-d90e-c2cf092b8ab8"
      },
      "source": [
        "bacon = 22\n",
        "bacon + 1\n",
        "print(bacon)"
      ],
      "execution_count": 5,
      "outputs": [
        {
          "output_type": "stream",
          "name": "stdout",
          "text": [
            "22\n"
          ]
        }
      ]
    },
    {
      "cell_type": "markdown",
      "metadata": {
        "id": "yUC6dthvUubh"
      },
      "source": [
        "# **Q7. What should the values of the following two terms be?**\n",
        "'spam' + 'spamspam' <br>\n",
        "'spam' * 3\n"
      ]
    },
    {
      "cell_type": "markdown",
      "metadata": {
        "id": "wsAGFHVXUugJ"
      },
      "source": [
        "A7. <br> \n",
        "'spam' + 'spamspam' will be concatenated as both string type, \"spamspamspam\" <br>\n",
        "'spam'*3 will be repeated 3 times, so it will be 'spamspamspam'\n"
      ]
    },
    {
      "cell_type": "code",
      "metadata": {
        "colab": {
          "base_uri": "https://localhost:8080/"
        },
        "id": "RueFM3aRj7kl",
        "outputId": "d4ccb7e3-6656-4070-be4a-40f55de9cef7"
      },
      "source": [
        "print('spam' + 'spamspam')\n",
        "print('spam' * 3)"
      ],
      "execution_count": 8,
      "outputs": [
        {
          "output_type": "stream",
          "name": "stdout",
          "text": [
            "spamspamspam\n",
            "spamspamspam\n"
          ]
        }
      ]
    },
    {
      "cell_type": "markdown",
      "metadata": {
        "id": "QMANsvf6Uuj3"
      },
      "source": [
        "# **8. Why is eggs a valid variable name while 100 is invalid?**"
      ]
    },
    {
      "cell_type": "markdown",
      "metadata": {
        "id": "nFjcVcKSUuq2"
      },
      "source": [
        "A8. <br> \n",
        "**eggs** is valid variable name as the **name starts with an letter and other characters are also alphanumberic.** <br>\n",
        "**100** is invalid as variable **name cannot start with a number, it should start with a letter or underscore.**\n"
      ]
    },
    {
      "cell_type": "markdown",
      "metadata": {
        "id": "cz2-zTrVUuuH"
      },
      "source": [
        "# **Q9. What three functions can be used to get the integer, floating-point number, or string version of a value?**"
      ]
    },
    {
      "cell_type": "markdown",
      "metadata": {
        "id": "rwgL0V5NUux4"
      },
      "source": [
        "A9. <br>\n",
        "**int()** function to get the integer version of value.\n",
        "**float()** function to get the float version of value.\n",
        "**str()** function to get the string version of value.\n",
        "\n"
      ]
    },
    {
      "cell_type": "code",
      "metadata": {
        "colab": {
          "base_uri": "https://localhost:8080/"
        },
        "id": "C21eyvp6pNJ-",
        "outputId": "481da2c8-e797-4833-9969-c3d842ff9d46"
      },
      "source": [
        "print(type(int('123')))\n",
        "print(type(str(123)))\n",
        "print(type(float('1.23')))"
      ],
      "execution_count": 11,
      "outputs": [
        {
          "output_type": "stream",
          "name": "stdout",
          "text": [
            "<class 'int'>\n",
            "<class 'str'>\n",
            "<class 'float'>\n"
          ]
        }
      ]
    },
    {
      "cell_type": "markdown",
      "metadata": {
        "id": "uiiMYyhSVSaZ"
      },
      "source": [
        "# **Q10. Why does this expression cause an error? How can you fix it?**\n",
        "'I have eaten ' + 99 + ' burritos.'\n"
      ]
    },
    {
      "cell_type": "markdown",
      "metadata": {
        "id": "3rty3V_eVSk3"
      },
      "source": [
        "A10. <br> \n",
        "The problem in this expression is '+' operator acting as concatenation operator, it needs similar type of data type but 99 is an integer type of data and we are concatenating with string data type.\n",
        "**string + int is not possible for concatenataion as different data type.**"
      ]
    }
  ]
}