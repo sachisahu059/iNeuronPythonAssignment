{
  "nbformat": 4,
  "nbformat_minor": 5,
  "metadata": {
    "colab": {
      "name": "PythonAssignment2.ipynb",
      "provenance": [],
      "collapsed_sections": [],
      "include_colab_link": true
    },
    "language_info": {
      "name": "python"
    },
    "kernelspec": {
      "name": "python3",
      "display_name": "Python 3"
    }
  },
  "cells": [
    {
      "cell_type": "markdown",
      "metadata": {
        "id": "view-in-github",
        "colab_type": "text"
      },
      "source": [
        "<a href=\"https://colab.research.google.com/github/sachisahu059/iNeuronPythonAssignment/blob/master/PythonAssignment2.ipynb\" target=\"_parent\"><img src=\"https://colab.research.google.com/assets/colab-badge.svg\" alt=\"Open In Colab\"/></a>"
      ]
    },
    {
      "cell_type": "markdown",
      "metadata": {
        "id": "uAJV0OHqkrsG"
      },
      "source": [
        "# ***Python Assignment 2***"
      ],
      "id": "uAJV0OHqkrsG"
    },
    {
      "cell_type": "markdown",
      "metadata": {
        "id": "UbyiilhQ4KF2"
      },
      "source": [
        "# **1.What are the two values of the Boolean data type? How do you write them?**"
      ],
      "id": "UbyiilhQ4KF2"
    },
    {
      "cell_type": "markdown",
      "metadata": {
        "id": "jAUIaA2i6c6P"
      },
      "source": [
        "Boolean has two values (True and False)\n",
        "We can write them like below by assigning this value."
      ],
      "id": "jAUIaA2i6c6P"
    },
    {
      "cell_type": "code",
      "metadata": {
        "colab": {
          "base_uri": "https://localhost:8080/"
        },
        "id": "dqaRexMM6qwr",
        "outputId": "53aebdda-08de-4836-d618-69299abf3f23"
      },
      "source": [
        "varX = True\n",
        "varY = False\n",
        "print(type(varX))\n",
        "print(type(varY))"
      ],
      "id": "dqaRexMM6qwr",
      "execution_count": 1,
      "outputs": [
        {
          "output_type": "stream",
          "name": "stdout",
          "text": [
            "<class 'bool'>\n",
            "<class 'bool'>\n"
          ]
        }
      ]
    },
    {
      "cell_type": "markdown",
      "metadata": {
        "id": "wyVl0CqI4YD0"
      },
      "source": [
        "# **2. What are the three different types of Boolean operators?**"
      ],
      "id": "wyVl0CqI4YD0"
    },
    {
      "cell_type": "markdown",
      "metadata": {
        "id": "QU8qM7MU-1og"
      },
      "source": [
        "and, or, not operators are boolean operators as these operator takes boolean values to operate on. <br>\n",
        "True and True <br>\n",
        "False or True <br>\n",
        "not True <br>\n"
      ],
      "id": "QU8qM7MU-1og"
    },
    {
      "cell_type": "markdown",
      "metadata": {
        "id": "i7Xd1Epi4YLh"
      },
      "source": [
        "# **3. Make a list of each Boolean operator's truth tables (i.e. every possible combination of Boolean values for the operator and what it evaluate ).**"
      ],
      "id": "i7Xd1Epi4YLh"
    },
    {
      "cell_type": "markdown",
      "metadata": {
        "id": "mUeOiGPS_I4h"
      },
      "source": [
        "**Boolean and operation Truth Table**\n",
        "\n",
        "True and True   -> True <br>\n",
        "True and False  -> False <br>\n",
        "False and True  -> False <br>\n",
        "False and False -> False <br>\n",
        "\n",
        "**Boolean or operation Truth Table**\n",
        "\n",
        "True or True   -> True <br>\n",
        "True or False  -> True <br>\n",
        "False or True  -> True <br>\n",
        "False or False -> False <br>\n",
        "\n",
        "**Boolean not operation Truth Table**\n",
        "\n",
        "not True   -> False <br>\n",
        "not False  -> True"
      ],
      "id": "mUeOiGPS_I4h"
    },
    {
      "cell_type": "markdown",
      "metadata": {
        "id": "JtlP0pM54YUr"
      },
      "source": [
        "# **4. What are the values of the following expressions?**\n",
        "(5 > 4) and (3 == 5)\n",
        "\n",
        "not (5 > 4)\n",
        "\n",
        "(5 > 4) or (3 == 5)\n",
        "\n",
        "not ((5 > 4) or (3 == 5))\n",
        "\n",
        "(True and True) and (True == False)\n",
        "\n",
        "(not False) or (not True)"
      ],
      "id": "JtlP0pM54YUr"
    },
    {
      "cell_type": "markdown",
      "metadata": {
        "id": "tJgCBbZCEMH6"
      },
      "source": [
        "**Values for the expressions** <br>\n",
        "(5 > 4) and (3 == 5) -> True and False -> False\n",
        "\n",
        "not (5 > 4) -> not (True) -> False\n",
        "\n",
        "(5 > 4) or (3 == 5) -> True or False -> True\n",
        "\n",
        "not ((5 > 4) or (3 == 5)) -> not (True or False) -> not (True) -> False\n",
        "\n",
        "(True and True) and (True == False) -> True and False -> False\n",
        "\n",
        "(not False) or (not True) -> True or False -> True"
      ],
      "id": "tJgCBbZCEMH6"
    },
    {
      "cell_type": "code",
      "metadata": {
        "colab": {
          "base_uri": "https://localhost:8080/"
        },
        "id": "gYPe0jJzEyK1",
        "outputId": "baffdba7-a606-417f-c4b0-d15a325c7a78"
      },
      "source": [
        "print((5 > 4) and (3 == 5))\n",
        "\n",
        "print(not (5 > 4))\n",
        "print((5 > 4) or (3 == 5))\n",
        "\n",
        "print(not ((5 > 4) or (3 == 5)))\n",
        "\n",
        "print((True and True) and (True == False))\n",
        "\n",
        "print((not False) or (not True))"
      ],
      "id": "gYPe0jJzEyK1",
      "execution_count": 20,
      "outputs": [
        {
          "output_type": "stream",
          "name": "stdout",
          "text": [
            "False\n",
            "False\n",
            "True\n",
            "False\n",
            "False\n",
            "True\n"
          ]
        }
      ]
    },
    {
      "cell_type": "markdown",
      "metadata": {
        "id": "JNIeT9d_4Yag"
      },
      "source": [
        "# **5. What are the six comparison operators?**"
      ],
      "id": "JNIeT9d_4Yag"
    },
    {
      "cell_type": "markdown",
      "metadata": {
        "id": "fjMmEmo-Jbg8"
      },
      "source": [
        "Comparision opertors compare two operands and gives us a boolean value as result.\n",
        "6 comparision operators are \n",
        "1. \\== Equal to operator ---> (5 == 6) -> False\n",
        "2. \\!= Not Equal operator ---> (5 != 6) -> True \n",
        "3. \\> Greater than operator ---> (5 > 6) -> False \n",
        "4. \\< Less than operator ---> (5 < 6) -> True \n",
        "5. \\>= Greater than and equal to ---> (5 >= 5) -> True\n",
        "6. \\<= Less than and equal to ---> (5 <= 6) ---> True"
      ],
      "id": "fjMmEmo-Jbg8"
    },
    {
      "cell_type": "markdown",
      "metadata": {
        "id": "x7C93Iar4YgF"
      },
      "source": [
        "# **6. How do you tell the difference between the equal to and assignment operators?Describe a condition and when you would use one.**"
      ],
      "id": "x7C93Iar4YgF"
    },
    {
      "cell_type": "markdown",
      "metadata": {
        "id": "oxevlzfjRF_i"
      },
      "source": [
        "Assignment operator is used to assign values to a variable, and equal to operator is used for comparing two values or values of variable is equal or not.\n",
        "\n",
        "x = 5 <br>\n",
        "Here x is variable so assignment operator = is used to assign 5 to x <br>\n",
        "a = 20 <br>\n",
        "b = 20 <br>\n",
        "a == b <br>\n",
        "Here 'a' value is compared with 'b' vlaue to check if they are same or different. <br>\n",
        "So to compare two values equal to operator is used and to assign a value to a variable assignment operator is used."
      ],
      "id": "oxevlzfjRF_i"
    },
    {
      "cell_type": "markdown",
      "metadata": {
        "id": "RKuiUFNk4YmK"
      },
      "source": [
        "# **7. Identify the three blocks in this code:**\n",
        "\n",
        "spam = 0\n",
        "\n",
        "if spam == 10:\n",
        "\n",
        "print('eggs')\n",
        "\n",
        "if spam > 5:\n",
        "\n",
        "print('bacon')\n",
        "\n",
        "else:\n",
        "\n",
        "print('ham')\n",
        "\n",
        "print('spam')\n",
        "\n",
        "print('spam')"
      ],
      "id": "RKuiUFNk4YmK"
    },
    {
      "cell_type": "markdown",
      "metadata": {
        "id": "5Yhd8yY9Wuw5"
      },
      "source": [
        "-------------Block 1-------------<br>\n",
        "spam = 0 <br>\n",
        "\\-----------------------------------  \n",
        "\n",
        "-------------Block 2----------------- <br>\n",
        "if spam == 10:\n",
        "\n",
        "print('eggs')<br>\n",
        "\\------------Block 2---------------\n",
        "\n",
        "--------------Block 3------------ <br>\n",
        "if spam > 5:\n",
        "\n",
        "print('bacon')\n",
        "\n",
        "else:\n",
        "\n",
        "print('ham') <br>\n",
        "\\-----------Block 3-------------------\n",
        "\n",
        "-------------Block 1------------- <br>\n",
        "print('spam')\n",
        "\n",
        "print('spam')<br>\n",
        "\\------------Blcok 1-------------"
      ],
      "id": "5Yhd8yY9Wuw5"
    },
    {
      "cell_type": "markdown",
      "metadata": {
        "id": "lK9XS44Y5mav"
      },
      "source": [
        "# **8. Write code that prints Hello if 1 is stored in spam, prints Howdy if 2 is stored in spam, and prints Greetings! if anything else is stored in spam.**"
      ],
      "id": "lK9XS44Y5mav"
    },
    {
      "cell_type": "code",
      "metadata": {
        "colab": {
          "base_uri": "https://localhost:8080/"
        },
        "id": "U80DYFs7XnWs",
        "outputId": "fdc4144b-c21e-4b50-8e34-5bbd119aa145"
      },
      "source": [
        "def check_spam(spam):\n",
        "  if (spam == 1):\n",
        "    print(\"Hello\")\n",
        "  elif (spam == 2):\n",
        "    print(\"Howdy\")\n",
        "  else:\n",
        "    print(\"Greetings\")\n",
        "\n",
        "check_spam(1)\n",
        "check_spam(2)\n",
        "check_spam(8)"
      ],
      "id": "U80DYFs7XnWs",
      "execution_count": 22,
      "outputs": [
        {
          "output_type": "stream",
          "name": "stdout",
          "text": [
            "Hello\n",
            "Howdy\n",
            "Greetings\n"
          ]
        }
      ]
    },
    {
      "cell_type": "markdown",
      "metadata": {
        "id": "ZlVK-P744KBm"
      },
      "source": [
        "# **9.If your programme is stuck in an endless loop, what keys you’ll press?**"
      ],
      "id": "ZlVK-P744KBm"
    },
    {
      "cell_type": "markdown",
      "metadata": {
        "id": "Ef1Jb0X2Y1i5"
      },
      "source": [
        "Ctrl + C will stop the program. "
      ],
      "id": "Ef1Jb0X2Y1i5"
    },
    {
      "cell_type": "markdown",
      "metadata": {
        "id": "fmoY81p64KJx"
      },
      "source": [
        "# **10. How can you tell the difference between break and continue?**\n",
        "\n"
      ],
      "id": "fmoY81p64KJx"
    },
    {
      "cell_type": "markdown",
      "metadata": {
        "id": "FuUf-0pMY0ni"
      },
      "source": [
        "break and continue statement is used normally in a loop. <br>\n",
        "Using break statement comes out of loop, basically it will not execute next statement and terminates the loop <br>\n",
        "using continue will complete the current iteration, so it will not execute the statments after continue inside that loop and will go to next iteration.\n",
        "\n",
        "\n",
        "\n"
      ],
      "id": "FuUf-0pMY0ni"
    },
    {
      "cell_type": "code",
      "metadata": {
        "colab": {
          "base_uri": "https://localhost:8080/"
        },
        "id": "TvTLJgRDjCpL",
        "outputId": "5d25c4c4-8067-4ec5-ae23-a62fee030b0a"
      },
      "source": [
        "print(\"**************break statment usgae************\")\n",
        "for i in range(0,10):\n",
        "  if (i == 4):\n",
        "    break # For 4 it will not execute below statment and will just terminate the loop.\n",
        "  print(i)  \n",
        "\n",
        "print(\"**************continue statment usgae************\")\n",
        "for i in range(0,10):\n",
        "  if (i == 4):\n",
        "    continue  # for 4 it will not execute below print statment and it will go to next iteration\n",
        "  print(i)  "
      ],
      "id": "TvTLJgRDjCpL",
      "execution_count": 30,
      "outputs": [
        {
          "output_type": "stream",
          "name": "stdout",
          "text": [
            "**************break statment usgae************\n",
            "0\n",
            "1\n",
            "2\n",
            "3\n",
            "**************continue statment usgae************\n",
            "0\n",
            "1\n",
            "2\n",
            "3\n",
            "5\n",
            "6\n",
            "7\n",
            "8\n",
            "9\n"
          ]
        }
      ]
    },
    {
      "cell_type": "markdown",
      "metadata": {
        "id": "rQf4nOZ54KNV"
      },
      "source": [
        "# **11. In a for loop, what is the difference between range(10), range(0, 10), and range(0, 10, 1)?**"
      ],
      "id": "rQf4nOZ54KNV"
    },
    {
      "cell_type": "markdown",
      "metadata": {
        "id": "edI_ae6FdyAT"
      },
      "source": [
        "range(10) , default starting point is 0 and end point is 10 and default step size 1, so it returns list 0, 9, so loop will run 10 times. <br>\n",
        "range(0, 10) starting point is 0 and end point 10 and default step size 1, so it returns list 0, 9, so loop will run 10 times. <br>\n",
        "range(0,10,1) starting point 0, end point 10 and step size 1, so it returns 0 to 9 and loop run 10 times.\n",
        "\n",
        "So there is no difference as such if we are using this in for loop.\n",
        "\n"
      ],
      "id": "edI_ae6FdyAT"
    },
    {
      "cell_type": "code",
      "metadata": {
        "colab": {
          "base_uri": "https://localhost:8080/"
        },
        "id": "Lw6NMNFIdxhx",
        "outputId": "07536a9d-074e-43bd-af2f-cb12d0fea6d5"
      },
      "source": [
        "print(\"****************range(10)***************\")\n",
        "for i in range(10):\n",
        "  print(i)\n",
        "print(\"****************range(0, 10)***************\")\n",
        "for i in range(0, 10):\n",
        "  print(i)\n",
        "print(\"****************range(0, 10, 1)***************\")\n",
        "for i in range(0, 10, 1):\n",
        "  print(i)\n"
      ],
      "id": "Lw6NMNFIdxhx",
      "execution_count": 28,
      "outputs": [
        {
          "output_type": "stream",
          "name": "stdout",
          "text": [
            "****************range(10)***************\n",
            "0\n",
            "1\n",
            "2\n",
            "3\n",
            "4\n",
            "5\n",
            "6\n",
            "7\n",
            "8\n",
            "9\n",
            "****************range(0, 10)***************\n",
            "0\n",
            "1\n",
            "2\n",
            "3\n",
            "4\n",
            "5\n",
            "6\n",
            "7\n",
            "8\n",
            "9\n",
            "****************range(0, 10, 1)***************\n",
            "0\n",
            "1\n",
            "2\n",
            "3\n",
            "4\n",
            "5\n",
            "6\n",
            "7\n",
            "8\n",
            "9\n"
          ]
        }
      ]
    },
    {
      "cell_type": "markdown",
      "metadata": {
        "id": "Sl8cKL3V4KUe"
      },
      "source": [
        "# **12. Write a short program that prints the numbers 1 to 10 using a for loop. Then write an equivalent program that prints the numbers 1 to 10 using a while loop.**"
      ],
      "id": "Sl8cKL3V4KUe"
    },
    {
      "cell_type": "code",
      "metadata": {
        "colab": {
          "base_uri": "https://localhost:8080/"
        },
        "id": "677v7UH1ZNJK",
        "outputId": "7907bee5-e613-40c9-bc01-12ee796ac3a7"
      },
      "source": [
        "print(\"Using for loop\")\n",
        "for i in range(1, 11):\n",
        "  print(i)\n",
        "print(\"Using while loop\")\n",
        "varX = 1;\n",
        "while (varX <= 10):\n",
        "  print(varX)\n",
        "  varX += 1"
      ],
      "id": "677v7UH1ZNJK",
      "execution_count": 26,
      "outputs": [
        {
          "output_type": "stream",
          "name": "stdout",
          "text": [
            "Using for loop\n",
            "1\n",
            "2\n",
            "3\n",
            "4\n",
            "5\n",
            "6\n",
            "7\n",
            "8\n",
            "9\n",
            "10\n",
            "Using while loop\n",
            "1\n",
            "2\n",
            "3\n",
            "4\n",
            "5\n",
            "6\n",
            "7\n",
            "8\n",
            "9\n",
            "10\n"
          ]
        }
      ]
    },
    {
      "cell_type": "markdown",
      "metadata": {
        "id": "HEfcvfcu4KYD"
      },
      "source": [
        "# **13. If you had a function named bacon() inside a module named spam, how would you call it after importing spam?**"
      ],
      "id": "HEfcvfcu4KYD"
    },
    {
      "cell_type": "markdown",
      "metadata": {
        "id": "XYnMBhzWdGeX"
      },
      "source": [
        "Module Name : spam <br>\n",
        "Function Name: bacon\n",
        "\n",
        "import spam  # Importing the module spam <br>\n",
        "spam.bacon() # calling bacon function from spam module"
      ],
      "id": "XYnMBhzWdGeX"
    }
  ]
}